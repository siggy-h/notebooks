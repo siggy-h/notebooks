{
  "nbformat": 4,
  "nbformat_minor": 0,
  "metadata": {
    "colab": {
      "name": "cesar.ipynb",
      "version": "0.3.2",
      "provenance": [],
      "collapsed_sections": [
        "mfhnn_VViAD3"
      ],
      "include_colab_link": true
    },
    "kernelspec": {
      "name": "python3",
      "display_name": "Python 3"
    }
  },
  "cells": [
    {
      "cell_type": "markdown",
      "metadata": {
        "id": "view-in-github",
        "colab_type": "text"
      },
      "source": [
        "[View in Colaboratory](https://colab.research.google.com/github/siggy-h/notebooks/blob/master/cesar.ipynb)"
      ]
    },
    {
      "metadata": {
        "id": "XrI-YAdtGLZ7",
        "colab_type": "text"
      },
      "cell_type": "markdown",
      "source": [
        "##**Set up: ** \n",
        "Set up lowercase and uppercase letters. \n",
        "Then created a dictionary for each using the letter as a key and the value with the shift applied. \n",
        "\n",
        "Ex:  key 'a'  has a value of 'q' with a shift key value of ??\n"
      ]
    },
    {
      "metadata": {
        "id": "LwmKYyXE21nY",
        "colab_type": "code",
        "colab": {
          "base_uri": "https://localhost:8080/",
          "height": 122
        },
        "outputId": "4790f64b-af33-44f9-a107-fcf1cdab4d1b"
      },
      "cell_type": "code",
      "source": [
        "import string\n",
        "\n",
        "low = string.ascii_lowercase\n",
        "up = string.ascii_uppercase\n",
        "\n",
        "KEY = 22  # cipher shift\n",
        "\n",
        "print(low)\n",
        "print(up)\n",
        "print('key:', KEY)\n",
        "\n",
        "low_dic = {}\n",
        "\n",
        "# enumerate() allows us to loop over the alphabet string 'low' with a counter 'i'\n",
        "for i, letter in enumerate(low):\n",
        "  low_dic[letter]= low[(i+KEY)%26]\n",
        "  \n",
        "up_dic = {}\n",
        "\n",
        "for i, letter in enumerate(up):\n",
        "  up_dic[letter]= up[(i+KEY)%26]\n",
        "\n",
        "print(low_dic)\n",
        "print(up_dic)"
      ],
      "execution_count": 13,
      "outputs": [
        {
          "output_type": "stream",
          "text": [
            "abcdefghijklmnopqrstuvwxyz\n",
            "ABCDEFGHIJKLMNOPQRSTUVWXYZ\n",
            "key: 22\n",
            "{'a': 'w', 'b': 'x', 'c': 'y', 'd': 'z', 'e': 'a', 'f': 'b', 'g': 'c', 'h': 'd', 'i': 'e', 'j': 'f', 'k': 'g', 'l': 'h', 'm': 'i', 'n': 'j', 'o': 'k', 'p': 'l', 'q': 'm', 'r': 'n', 's': 'o', 't': 'p', 'u': 'q', 'v': 'r', 'w': 's', 'x': 't', 'y': 'u', 'z': 'v'}\n",
            "{'A': 'W', 'B': 'X', 'C': 'Y', 'D': 'Z', 'E': 'A', 'F': 'B', 'G': 'C', 'H': 'D', 'I': 'E', 'J': 'F', 'K': 'G', 'L': 'H', 'M': 'I', 'N': 'J', 'O': 'K', 'P': 'L', 'Q': 'M', 'R': 'N', 'S': 'O', 'T': 'P', 'U': 'Q', 'V': 'R', 'W': 'S', 'X': 'T', 'Y': 'U', 'Z': 'V'}\n"
          ],
          "name": "stdout"
        }
      ]
    },
    {
      "metadata": {
        "id": "NMNvhIE8G_5Y",
        "colab_type": "text"
      },
      "cell_type": "markdown",
      "source": [
        "##Function **convert()**\n",
        "\n",
        "input is text,  \n",
        "output is the text with the shift key applied to each letter"
      ]
    },
    {
      "metadata": {
        "id": "v-fNMYkrG_eb",
        "colab_type": "code",
        "colab": {}
      },
      "cell_type": "code",
      "source": [
        "def convert(inText):\n",
        "  spyT = []\n",
        "  for i, letter in enumerate(inText):\n",
        "    if(inText[i] in low_dic):\n",
        "      spyT.append(low_dic[letter])\n",
        "    elif(inText[i] in up_dic):\n",
        "      spyT.append(up_dic[letter])\n",
        "    else:\n",
        "      spyT.append(letter)\n",
        "\n",
        "  return ''.join(spyT)"
      ],
      "execution_count": 0,
      "outputs": []
    },
    {
      "metadata": {
        "id": "AmpGilxbHbHJ",
        "colab_type": "text"
      },
      "cell_type": "markdown",
      "source": [
        "## Example"
      ]
    },
    {
      "metadata": {
        "id": "J9DHARr23XrD",
        "colab_type": "code",
        "colab": {
          "base_uri": "https://localhost:8080/",
          "height": 34
        },
        "outputId": "beebd980-a0b4-4f6c-dbfe-6f057641f50f"
      },
      "cell_type": "code",
      "source": [
        "text = \"Hello, World\"\n",
        "\n",
        "a = convert(text)\n",
        "print(text, '  is now: ', a)"
      ],
      "execution_count": 15,
      "outputs": [
        {
          "output_type": "stream",
          "text": [
            "Hello, World   is now:  Dahhk, Sknhz\n"
          ],
          "name": "stdout"
        }
      ]
    },
    {
      "metadata": {
        "id": "R4i3-zlxHmei",
        "colab_type": "text"
      },
      "cell_type": "markdown",
      "source": [
        "**This is the set up for a big body of text. I did a little sanitizing by removing ''/n\"**\n",
        "\n",
        "Running the text through the convert function results in the coded text."
      ]
    },
    {
      "metadata": {
        "id": "WAlNmonSNgf6",
        "colab_type": "code",
        "colab": {}
      },
      "cell_type": "code",
      "source": [
        "decl = \"We hold these truths to be self-evident, that all men are created equal, that they are endowed by their Creator with certain unalienable Rights, /nthat among these are Life, Liberty, and the pursuit of Happiness. /nThat to secure these rights, Governments are instituted among Men, /nderiving their just powers from the consent of the governed, /nThat whenever any Form of Government becomes destructive of these ends, /nit is the Right of the People to alter or to abolish it, and to institute /nnew Government, laying its foundation on such principles and organizing /nits powers in such form, as to them shall seem most likely to effect /ntheir Safety and Happiness.  Prudence, indeed, will dictate that Governments /nlong established should not be changed for light and transient causes; /nand accordingly all experience hath shown, that mankind are more disposed /nto suffer, while evils are sufferable, than to right themselves by abolishing /nthe forms to which they are accustomed.  But when a long train of abuses and /nusurpations, pursuing invariably the same Object evinces a design to reduce /nthem under absolute Despotism, it is their right, it is their duty, to throw /noff such Government, and to provide new Guards for their future security. /n--Such has been the patient sufferance of these Colonies; and such is now /nthe necessity which constrains them to alter their former Systems of Government. /nThe history of the present King of Great Britain is a history of repeated /ninjuries and usurpations, all having in direct object the establishment /nof an absolute Tyranny over these States.  To prove this, let Facts /nbe submitted to a candid world. /n/nHe has refused his Assent to Laws, the most wholesome and necessary /nfor the public good. /n/nHe has forbidden his Governors to pass Laws of immediate /nand pressing importance, unless suspended in their operation /ntill his Assent should be obtained; and when so suspended, /nhe has utterly neglected to attend to them. /n/nHe has refused to pass other Laws for the accommodation of /nlarge districts of people, unless those people would relinquish /nthe right of Representation in the Legislature, a right /ninestimable to them and formidable to tyrants only. /n/nHe has called together legislative bodies at places unusual, /nuncomfortable, and distant from the depository of their /nPublic Records, for the sole purpose of fatiguing them /ninto compliance with his measures. /n/nHe has dissolved Representative Houses repeatedly, for opposing /nwith manly firmness his invasions on the rights of the people. /n/nHe has refused for a long time, after such dissolutions, /nto cause others to be elected; whereby the Legislative Powers, /nincapable of Annihilation, have returned to the People at large /nfor their exercise; the State remaining in the mean time exposed /nto all the dangers of invasion from without, and convulsions within. /n/nHe has endeavoured to prevent the population of these States; /nfor that purpose obstructing the Laws of Naturalization of Foreigners; /nrefusing to pass others to encourage their migration hither, /nand raising the conditions of new Appropriations of Lands. /n/nHe has obstructed the Administration of Justice, by refusing his Assent /nto Laws for establishing Judiciary Powers. /n/nHe has made judges dependent on his Will alone, for the tenure /nof their offices, and the amount and payment of their salaries. /n/nHe has erected a multitude of New Offices, and sent hither swarms of /nOfficers to harass our People, and eat out their substance. /n/nHe has kept among us, in times of peace, Standing Armies /nwithout the Consent of our legislatures. /n/nHe has affected to render the Military independent of /nand superior to the Civil Power. /n/nHe has combined with others to subject us to a jurisdiction /nforeign to our constitution, and unacknowledged by our laws; /ngiving his Assent to their Acts of pretended legislation: /n/nFor quartering large bodies of armed troops among us: /n/nFor protecting them, by a mock Trial, from Punishment for any Murders /nwhich they should commit on the Inhabitants of these States: /n/nFor cutting off our Trade with all parts of the world: /n/nFor imposing taxes on us without our Consent: /n/nFor depriving us, in many cases, of the benefits of Trial by Jury:/n/nFor transporting us beyond Seas to be tried for pretended offences: /n/nFor abolishing the free System of English Laws in a neighbouring /nProvince, establishing therein an Arbitrary government, /nand enlarging its Boundaries so as to render it at once /nan example and fit instrument for introducing the same /nabsolute rule into these Colonies: /n/nFor taking away our Charters, abolishing our most valuable Laws, /nand altering fundamentally the Forms of our Governments: /n/nFor suspending our own Legislatures, and declaring themselves /ninvested with Power to legislate for us in all cases whatsoever. /n/nHe has abdicated Government here, by declaring us out of his Protection /nand waging War against us. /n/nHe has plundered our seas, ravaged our Coasts, burnt our towns, /nand destroyed the lives of our people. /n/nHe is at this time transporting large armies of foreign mercenaries /nto compleat the works of death, desolation and tyranny, already begun /nwith circumstances of Cruelty & perfidy scarcely paralleled in the /nmost barbarous ages, and totally unworthy of the Head of a civilized nation. /n/nHe has constrained our fellow Citizens taken Captive on the high Seas /nto bear Arms against their Country, to become the executioners of /ntheir friends and Brethren, or to fall themselves by their Hands. /n/nHe has excited domestic insurrections amongst us, and has /nendeavoured to bring on the inhabitants of our frontiers, /nthe merciless Indian Savages, whose known rule of warfare, /nis an undistinguished destruction of all ages, sexes and conditions. /n/nIn every stage of these Oppressions We have Petitioned for Redress /nin the most humble terms:  Our repeated Petitions have been answered /nonly by repeated injury.  A Prince, whose character is thus marked /nby every act which may define a Tyrant, is unfit to be the ruler /nof a free People. /n/nNor have We been wanting in attention to our Brittish brethren. /nWe have warned them from time to time of attempts by their /nlegislature to extend an unwarrantable jurisdiction over us. /nWe have reminded them of the circumstances of our emigration and /nsettlement here.  We have appealed to their native justice /nand magnanimity, and we have conjured them by the ties of our /ncommon kindred to disavow these usurpations, which would inevitably /ninterrupt our connections and correspondence.  They too have been /ndeaf to the voice of justice and of consanguinity.  We must, therefore, /nacquiesce in the necessity, which denounces our Separation, and hold them, /nas we hold the rest of mankind, Enemies in War, in Peace Friends. /n/nWe, therefore, the Representatives of the United States of America, /nin General Congress, Assembled, appealing to the Supreme Judge of /nthe world for the rectitude of our intentions, do, in the Name, /nand by the Authority of the good People of these Colonies, /nsolemnly publish and declare, That these United Colonies are, /nand of Right ought to be Free and Independent States; /nthat they are Absolved from all Allegiance to the British Crown, /nand that all political connection between them and the State /nof Great Britain, is and ought to be totally dissolved; /nand that as Free and Independent States, they have full Power to /nlevy War, conclude Peace, contract Alliances, establish Commerce, /nand to do all other Acts and Things which Independent States may /nof right do.  And for the support of this Declaration, with a firm /nreliance on the Protection of Divine Providence, we mutually pledge /nto each other our Lives, our Fortunes and our sacred Honor.\"\n",
        "cleanText = decl.replace('/n', '')\n",
        "# print(cleanText)"
      ],
      "execution_count": 0,
      "outputs": []
    },
    {
      "metadata": {
        "id": "ewh72NAAJmRK",
        "colab_type": "text"
      },
      "cell_type": "markdown",
      "source": [
        "##Exercise Convert the following: "
      ]
    },
    {
      "metadata": {
        "id": "kWea45jAJo2G",
        "colab_type": "code",
        "colab": {
          "base_uri": "https://localhost:8080/",
          "height": 54
        },
        "outputId": "b6240cad-1cc5-4994-ee9b-f386b34c701d"
      },
      "cell_type": "code",
      "source": [
        "encoded_text = convert(cleanText)\n",
        "print(encoded_text)"
      ],
      "execution_count": 17,
      "outputs": [
        {
          "output_type": "stream",
          "text": [
            "Sa dkhz pdaoa pnqpdo pk xa oahb-arezajp, pdwp whh iaj wna ynawpaz amqwh, pdwp pdau wna ajzksaz xu pdaen Ynawpkn sepd yanpwej qjwheajwxha Necdpo, pdwp wikjc pdaoa wna Heba, Hexanpu, wjz pda lqnoqep kb Dwllejaoo. Pdwp pk oayqna pdaoa necdpo, Ckranjiajpo wna ejopepqpaz wikjc Iaj, zanerejc pdaen fqop lksano bnki pda ykjoajp kb pda ckranjaz, Pdwp sdajaran wju Bkni kb Ckranjiajp xaykiao zaopnqypera kb pdaoa ajzo, ep eo pda Necdp kb pda Laklha pk whpan kn pk wxkheod ep, wjz pk ejopepqpa jas Ckranjiajp, hwuejc epo bkqjzwpekj kj oqyd lnejyelhao wjz kncwjevejc epo lksano ej oqyd bkni, wo pk pdai odwhh oaai ikop hegahu pk abbayp pdaen Owbapu wjz Dwllejaoo.  Lnqzajya, ejzaaz, sehh zeypwpa pdwp Ckranjiajpo hkjc aopwxheodaz odkqhz jkp xa ydwjcaz bkn hecdp wjz pnwjoeajp ywqoao; wjz wyyknzejchu whh atlaneajya dwpd odksj, pdwp iwjgejz wna ikna zeolkoaz pk oqbban, sdeha areho wna oqbbanwxha, pdwj pk necdp pdaioahrao xu wxkheodejc pda bknio pk sdeyd pdau wna wyyqopkiaz.  Xqp sdaj w hkjc pnwej kb wxqoao wjz qoqnlwpekjo, lqnoqejc ejrwnewxhu pda owia Kxfayp arejyao w zaoecj pk nazqya pdai qjzan wxokhqpa Zaolkpeoi, ep eo pdaen necdp, ep eo pdaen zqpu, pk pdnks kbb oqyd Ckranjiajp, wjz pk lnkreza jas Cqwnzo bkn pdaen bqpqna oayqnepu. --Oqyd dwo xaaj pda lwpeajp oqbbanwjya kb pdaoa Ykhkjeao; wjz oqyd eo jks pda jayaooepu sdeyd ykjopnwejo pdai pk whpan pdaen bknian Ouopaio kb Ckranjiajp. Pda deopknu kb pda lnaoajp Gejc kb Cnawp Xnepwej eo w deopknu kb nalawpaz ejfqneao wjz qoqnlwpekjo, whh dwrejc ej zenayp kxfayp pda aopwxheodiajp kb wj wxokhqpa Punwjju kran pdaoa Opwpao.  Pk lnkra pdeo, hap Bwypo xa oqxieppaz pk w ywjzez sknhz. Da dwo nabqoaz deo Wooajp pk Hwso, pda ikop sdkhaokia wjz jayaoownu bkn pda lqxhey ckkz. Da dwo bknxezzaj deo Ckranjkno pk lwoo Hwso kb eiiazewpa wjz lnaooejc eilknpwjya, qjhaoo oqolajzaz ej pdaen klanwpekj pehh deo Wooajp odkqhz xa kxpwejaz; wjz sdaj ok oqolajzaz, da dwo qppanhu jachaypaz pk wppajz pk pdai. Da dwo nabqoaz pk lwoo kpdan Hwso bkn pda wyykiikzwpekj kb hwnca zeopneypo kb laklha, qjhaoo pdkoa laklha skqhz nahejmqeod pda necdp kb Nalnaoajpwpekj ej pda Haceohwpqna, w necdp ejaopeiwxha pk pdai wjz bkniezwxha pk punwjpo kjhu. Da dwo ywhhaz pkcapdan haceohwpera xkzeao wp lhwyao qjqoqwh, qjykibknpwxha, wjz zeopwjp bnki pda zalkoepknu kb pdaen Lqxhey Nayknzo, bkn pda okha lqnlkoa kb bwpecqejc pdai ejpk ykilhewjya sepd deo iawoqnao. Da dwo zeookhraz Nalnaoajpwpera Dkqoao nalawpazhu, bkn kllkoejc sepd iwjhu benijaoo deo ejrwoekjo kj pda necdpo kb pda laklha. Da dwo nabqoaz bkn w hkjc peia, wbpan oqyd zeookhqpekjo, pk ywqoa kpdano pk xa ahaypaz; sdanaxu pda Haceohwpera Lksano, ejywlwxha kb Wjjedehwpekj, dwra napqnjaz pk pda Laklha wp hwnca bkn pdaen atanyeoa; pda Opwpa naiwejejc ej pda iawj peia atlkoaz pk whh pda zwjcano kb ejrwoekj bnki sepdkqp, wjz ykjrqhoekjo sepdej. Da dwo ajzawrkqnaz pk lnarajp pda lklqhwpekj kb pdaoa Opwpao; bkn pdwp lqnlkoa kxopnqypejc pda Hwso kb Jwpqnwhevwpekj kb Bknaecjano; nabqoejc pk lwoo kpdano pk ajykqnwca pdaen iecnwpekj depdan, wjz nweoejc pda ykjzepekjo kb jas Wllnklnewpekjo kb Hwjzo. Da dwo kxopnqypaz pda Wziejeopnwpekj kb Fqopeya, xu nabqoejc deo Wooajp pk Hwso bkn aopwxheodejc Fqzeyewnu Lksano. Da dwo iwza fqzcao zalajzajp kj deo Sehh whkja, bkn pda pajqna kb pdaen kbbeyao, wjz pda wikqjp wjz lwuiajp kb pdaen owhwneao. Da dwo anaypaz w iqhpepqza kb Jas Kbbeyao, wjz oajp depdan oswnio kb Kbbeyano pk dwnwoo kqn Laklha, wjz awp kqp pdaen oqxopwjya. Da dwo galp wikjc qo, ej peiao kb lawya, Opwjzejc Wnieao sepdkqp pda Ykjoajp kb kqn haceohwpqnao. Da dwo wbbaypaz pk najzan pda Iehepwnu ejzalajzajp kb wjz oqlanekn pk pda Yereh Lksan. Da dwo ykixejaz sepd kpdano pk oqxfayp qo pk w fqneozeypekj bknaecj pk kqn ykjopepqpekj, wjz qjwygjkshazcaz xu kqn hwso; cerejc deo Wooajp pk pdaen Wypo kb lnapajzaz haceohwpekj: Bkn mqwnpanejc hwnca xkzeao kb wniaz pnkklo wikjc qo: Bkn lnkpaypejc pdai, xu w ikyg Pnewh, bnki Lqjeodiajp bkn wju Iqnzano sdeyd pdau odkqhz ykiiep kj pda Ejdwxepwjpo kb pdaoa Opwpao: Bkn yqppejc kbb kqn Pnwza sepd whh lwnpo kb pda sknhz: Bkn eilkoejc pwtao kj qo sepdkqp kqn Ykjoajp: Bkn zalnerejc qo, ej iwju ywoao, kb pda xajabepo kb Pnewh xu Fqnu:Bkn pnwjolknpejc qo xaukjz Oawo pk xa pneaz bkn lnapajzaz kbbajyao: Bkn wxkheodejc pda bnaa Ouopai kb Ajcheod Hwso ej w jaecdxkqnejc Lnkrejya, aopwxheodejc pdanaej wj Wnxepnwnu ckranjiajp, wjz ajhwncejc epo Xkqjzwneao ok wo pk najzan ep wp kjya wj atwilha wjz bep ejopnqiajp bkn ejpnkzqyejc pda owia wxokhqpa nqha ejpk pdaoa Ykhkjeao: Bkn pwgejc wswu kqn Ydwnpano, wxkheodejc kqn ikop rwhqwxha Hwso, wjz whpanejc bqjzwiajpwhhu pda Bknio kb kqn Ckranjiajpo: Bkn oqolajzejc kqn ksj Haceohwpqnao, wjz zayhwnejc pdaioahrao ejraopaz sepd Lksan pk haceohwpa bkn qo ej whh ywoao sdwpokaran. Da dwo wxzeywpaz Ckranjiajp dana, xu zayhwnejc qo kqp kb deo Lnkpaypekj wjz swcejc Swn wcwejop qo. Da dwo lhqjzanaz kqn oawo, nwrwcaz kqn Ykwopo, xqnjp kqn pksjo, wjz zaopnkuaz pda herao kb kqn laklha. Da eo wp pdeo peia pnwjolknpejc hwnca wnieao kb bknaecj ianyajwneao pk ykilhawp pda skngo kb zawpd, zaokhwpekj wjz punwjju, whnawzu xacqj sepd yenyqiopwjyao kb Ynqahpu & lanbezu oywnyahu lwnwhhahaz ej pda ikop xwnxwnkqo wcao, wjz pkpwhhu qjsknpdu kb pda Dawz kb w yerehevaz jwpekj. Da dwo ykjopnwejaz kqn bahhks Yepevajo pwgaj Ywlpera kj pda decd Oawo pk xawn Wnio wcwejop pdaen Ykqjpnu, pk xaykia pda atayqpekjano kb pdaen bneajzo wjz Xnapdnaj, kn pk bwhh pdaioahrao xu pdaen Dwjzo. Da dwo atyepaz zkiaopey ejoqnnaypekjo wikjcop qo, wjz dwo ajzawrkqnaz pk xnejc kj pda ejdwxepwjpo kb kqn bnkjpeano, pda ianyehaoo Ejzewj Owrwcao, sdkoa gjksj nqha kb swnbwna, eo wj qjzeopejcqeodaz zaopnqypekj kb whh wcao, oatao wjz ykjzepekjo. Ej aranu opwca kb pdaoa Kllnaooekjo Sa dwra Lapepekjaz bkn Naznaoo ej pda ikop dqixha panio:  Kqn nalawpaz Lapepekjo dwra xaaj wjosanaz kjhu xu nalawpaz ejfqnu.  W Lnejya, sdkoa ydwnwypan eo pdqo iwngaz xu aranu wyp sdeyd iwu zabeja w Punwjp, eo qjbep pk xa pda nqhan kb w bnaa Laklha. Jkn dwra Sa xaaj swjpejc ej wppajpekj pk kqn Xneppeod xnapdnaj. Sa dwra swnjaz pdai bnki peia pk peia kb wppailpo xu pdaen haceohwpqna pk atpajz wj qjswnnwjpwxha fqneozeypekj kran qo. Sa dwra naiejzaz pdai kb pda yenyqiopwjyao kb kqn aiecnwpekj wjz oapphaiajp dana.  Sa dwra wllawhaz pk pdaen jwpera fqopeya wjz iwcjwjeiepu, wjz sa dwra ykjfqnaz pdai xu pda peao kb kqn ykiikj gejznaz pk zeowrks pdaoa qoqnlwpekjo, sdeyd skqhz ejarepwxhu ejpannqlp kqn ykjjaypekjo wjz yknnaolkjzajya.  Pdau pkk dwra xaaj zawb pk pda rkeya kb fqopeya wjz kb ykjowjcqejepu.  Sa iqop, pdanabkna, wymqeaoya ej pda jayaooepu, sdeyd zajkqjyao kqn Oalwnwpekj, wjz dkhz pdai, wo sa dkhz pda naop kb iwjgejz, Ajaieao ej Swn, ej Lawya Bneajzo. Sa, pdanabkna, pda Nalnaoajpwperao kb pda Qjepaz Opwpao kb Wianeyw, ej Cajanwh Ykjcnaoo, Wooaixhaz, wllawhejc pk pda Oqlnaia Fqzca kb pda sknhz bkn pda naypepqza kb kqn ejpajpekjo, zk, ej pda Jwia, wjz xu pda Wqpdknepu kb pda ckkz Laklha kb pdaoa Ykhkjeao, okhaijhu lqxheod wjz zayhwna, Pdwp pdaoa Qjepaz Ykhkjeao wna, wjz kb Necdp kqcdp pk xa Bnaa wjz Ejzalajzajp Opwpao; pdwp pdau wna Wxokhraz bnki whh Whhacewjya pk pda Xnepeod Ynksj, wjz pdwp whh lkhepeywh ykjjaypekj xapsaaj pdai wjz pda Opwpa kb Cnawp Xnepwej, eo wjz kqcdp pk xa pkpwhhu zeookhraz; wjz pdwp wo Bnaa wjz Ejzalajzajp Opwpao, pdau dwra bqhh Lksan pk haru Swn, ykjyhqza Lawya, ykjpnwyp Whhewjyao, aopwxheod Ykiianya, wjz pk zk whh kpdan Wypo wjz Pdejco sdeyd Ejzalajzajp Opwpao iwu kb necdp zk.  Wjz bkn pda oqllknp kb pdeo Zayhwnwpekj, sepd w beni nahewjya kj pda Lnkpaypekj kb Zereja Lnkrezajya, sa iqpqwhhu lhazca pk awyd kpdan kqn Herao, kqn Bknpqjao wjz kqn owynaz Dkjkn.\n"
          ],
          "name": "stdout"
        }
      ]
    },
    {
      "metadata": {
        "id": "8dt2Fh4bUWek",
        "colab_type": "text"
      },
      "cell_type": "markdown",
      "source": [
        "# My Solution!\n",
        "\n",
        "### My trial program to solve it... "
      ]
    },
    {
      "metadata": {
        "id": "9uipaah8O_Eq",
        "colab_type": "code",
        "colab": {
          "base_uri": "https://localhost:8080/",
          "height": 71
        },
        "outputId": "f2fe9761-fe11-45b9-c37f-82a057c27114"
      },
      "cell_type": "code",
      "source": [
        "from collections import defaultdict\n",
        "import string\n",
        "\n",
        "def mostCommonLetter(text): \n",
        "  letter_freq = defaultdict(int)\n",
        "  text_list = encoded_text\n",
        "  \n",
        "  # create a dict with letter as \"key\" and frequency (count) as \"value\"\n",
        "  for text in text_list:\n",
        "    for word in text.split():\n",
        "        letter_freq[word] += 1\n",
        "\n",
        "  # return key with max value\n",
        "  return max(letter_freq, key=lambda k: letter_freq[k])\n",
        "\n",
        "\n",
        "\n",
        "def findKeyShift(letter): \n",
        "  lowerCase = string.ascii_lowercase\n",
        "  \n",
        "  # BIG assumption - 'e' is most common letter in the English Language \n",
        "  # .  If the text is big enough this should work!\n",
        "  index = lowerCase.find('e')\n",
        "  letter_index = lowerCase.find(letter)\n",
        "  \n",
        "  return letter_index - index\n",
        "  \n",
        "  \n",
        "def decodeText(text, keyShift):\n",
        "  lowerCase = string.ascii_lowercase\n",
        "  upperCase = string.ascii_uppercase  \n",
        "\n",
        "  decoded_text = []\n",
        "  \n",
        "  for i, letter in enumerate(text):\n",
        "    if(text[i] in lowerCase):\n",
        "      pos = lowerCase.find(text[i])\n",
        "      decoded_text.append(lowerCase[ (pos - keyShift) %26 ])\n",
        "    elif(text[i] in upperCase):\n",
        "      pos = upperCase.find(text[i])\n",
        "      decoded_text.append(upperCase[ (pos - keyShift) %26 ])\n",
        "    else: \n",
        "      decoded_text.append(letter)\n",
        "\n",
        "  return ''.join(decoded_text)\n",
        "  \n",
        "  \n",
        "  \n",
        "def handleDecodeText(text): \n",
        "  # find most common letter\n",
        "  most_common_letter = mostCommonLetter(text)  \n",
        "  \n",
        "  # print(most_common_letter)\n",
        "  \n",
        "  # find key shift\n",
        "  keyShift = findKeyShift(most_common_letter)\n",
        "  \n",
        "  # print('key shift:', keyShift)\n",
        "  \n",
        "  return decodeText(text, keyShift)\n",
        "  \n",
        "  \n",
        "print (encoded_text)\n",
        "\n",
        "decoded_text = handleDecodeText(encoded_text)\n",
        "print(decoded_text)\n"
      ],
      "execution_count": 18,
      "outputs": [
        {
          "output_type": "stream",
          "text": [
            "Sa dkhz pdaoa pnqpdo pk xa oahb-arezajp, pdwp whh iaj wna ynawpaz amqwh, pdwp pdau wna ajzksaz xu pdaen Ynawpkn sepd yanpwej qjwheajwxha Necdpo, pdwp wikjc pdaoa wna Heba, Hexanpu, wjz pda lqnoqep kb Dwllejaoo. Pdwp pk oayqna pdaoa necdpo, Ckranjiajpo wna ejopepqpaz wikjc Iaj, zanerejc pdaen fqop lksano bnki pda ykjoajp kb pda ckranjaz, Pdwp sdajaran wju Bkni kb Ckranjiajp xaykiao zaopnqypera kb pdaoa ajzo, ep eo pda Necdp kb pda Laklha pk whpan kn pk wxkheod ep, wjz pk ejopepqpa jas Ckranjiajp, hwuejc epo bkqjzwpekj kj oqyd lnejyelhao wjz kncwjevejc epo lksano ej oqyd bkni, wo pk pdai odwhh oaai ikop hegahu pk abbayp pdaen Owbapu wjz Dwllejaoo.  Lnqzajya, ejzaaz, sehh zeypwpa pdwp Ckranjiajpo hkjc aopwxheodaz odkqhz jkp xa ydwjcaz bkn hecdp wjz pnwjoeajp ywqoao; wjz wyyknzejchu whh atlaneajya dwpd odksj, pdwp iwjgejz wna ikna zeolkoaz pk oqbban, sdeha areho wna oqbbanwxha, pdwj pk necdp pdaioahrao xu wxkheodejc pda bknio pk sdeyd pdau wna wyyqopkiaz.  Xqp sdaj w hkjc pnwej kb wxqoao wjz qoqnlwpekjo, lqnoqejc ejrwnewxhu pda owia Kxfayp arejyao w zaoecj pk nazqya pdai qjzan wxokhqpa Zaolkpeoi, ep eo pdaen necdp, ep eo pdaen zqpu, pk pdnks kbb oqyd Ckranjiajp, wjz pk lnkreza jas Cqwnzo bkn pdaen bqpqna oayqnepu. --Oqyd dwo xaaj pda lwpeajp oqbbanwjya kb pdaoa Ykhkjeao; wjz oqyd eo jks pda jayaooepu sdeyd ykjopnwejo pdai pk whpan pdaen bknian Ouopaio kb Ckranjiajp. Pda deopknu kb pda lnaoajp Gejc kb Cnawp Xnepwej eo w deopknu kb nalawpaz ejfqneao wjz qoqnlwpekjo, whh dwrejc ej zenayp kxfayp pda aopwxheodiajp kb wj wxokhqpa Punwjju kran pdaoa Opwpao.  Pk lnkra pdeo, hap Bwypo xa oqxieppaz pk w ywjzez sknhz. Da dwo nabqoaz deo Wooajp pk Hwso, pda ikop sdkhaokia wjz jayaoownu bkn pda lqxhey ckkz. Da dwo bknxezzaj deo Ckranjkno pk lwoo Hwso kb eiiazewpa wjz lnaooejc eilknpwjya, qjhaoo oqolajzaz ej pdaen klanwpekj pehh deo Wooajp odkqhz xa kxpwejaz; wjz sdaj ok oqolajzaz, da dwo qppanhu jachaypaz pk wppajz pk pdai. Da dwo nabqoaz pk lwoo kpdan Hwso bkn pda wyykiikzwpekj kb hwnca zeopneypo kb laklha, qjhaoo pdkoa laklha skqhz nahejmqeod pda necdp kb Nalnaoajpwpekj ej pda Haceohwpqna, w necdp ejaopeiwxha pk pdai wjz bkniezwxha pk punwjpo kjhu. Da dwo ywhhaz pkcapdan haceohwpera xkzeao wp lhwyao qjqoqwh, qjykibknpwxha, wjz zeopwjp bnki pda zalkoepknu kb pdaen Lqxhey Nayknzo, bkn pda okha lqnlkoa kb bwpecqejc pdai ejpk ykilhewjya sepd deo iawoqnao. Da dwo zeookhraz Nalnaoajpwpera Dkqoao nalawpazhu, bkn kllkoejc sepd iwjhu benijaoo deo ejrwoekjo kj pda necdpo kb pda laklha. Da dwo nabqoaz bkn w hkjc peia, wbpan oqyd zeookhqpekjo, pk ywqoa kpdano pk xa ahaypaz; sdanaxu pda Haceohwpera Lksano, ejywlwxha kb Wjjedehwpekj, dwra napqnjaz pk pda Laklha wp hwnca bkn pdaen atanyeoa; pda Opwpa naiwejejc ej pda iawj peia atlkoaz pk whh pda zwjcano kb ejrwoekj bnki sepdkqp, wjz ykjrqhoekjo sepdej. Da dwo ajzawrkqnaz pk lnarajp pda lklqhwpekj kb pdaoa Opwpao; bkn pdwp lqnlkoa kxopnqypejc pda Hwso kb Jwpqnwhevwpekj kb Bknaecjano; nabqoejc pk lwoo kpdano pk ajykqnwca pdaen iecnwpekj depdan, wjz nweoejc pda ykjzepekjo kb jas Wllnklnewpekjo kb Hwjzo. Da dwo kxopnqypaz pda Wziejeopnwpekj kb Fqopeya, xu nabqoejc deo Wooajp pk Hwso bkn aopwxheodejc Fqzeyewnu Lksano. Da dwo iwza fqzcao zalajzajp kj deo Sehh whkja, bkn pda pajqna kb pdaen kbbeyao, wjz pda wikqjp wjz lwuiajp kb pdaen owhwneao. Da dwo anaypaz w iqhpepqza kb Jas Kbbeyao, wjz oajp depdan oswnio kb Kbbeyano pk dwnwoo kqn Laklha, wjz awp kqp pdaen oqxopwjya. Da dwo galp wikjc qo, ej peiao kb lawya, Opwjzejc Wnieao sepdkqp pda Ykjoajp kb kqn haceohwpqnao. Da dwo wbbaypaz pk najzan pda Iehepwnu ejzalajzajp kb wjz oqlanekn pk pda Yereh Lksan. Da dwo ykixejaz sepd kpdano pk oqxfayp qo pk w fqneozeypekj bknaecj pk kqn ykjopepqpekj, wjz qjwygjkshazcaz xu kqn hwso; cerejc deo Wooajp pk pdaen Wypo kb lnapajzaz haceohwpekj: Bkn mqwnpanejc hwnca xkzeao kb wniaz pnkklo wikjc qo: Bkn lnkpaypejc pdai, xu w ikyg Pnewh, bnki Lqjeodiajp bkn wju Iqnzano sdeyd pdau odkqhz ykiiep kj pda Ejdwxepwjpo kb pdaoa Opwpao: Bkn yqppejc kbb kqn Pnwza sepd whh lwnpo kb pda sknhz: Bkn eilkoejc pwtao kj qo sepdkqp kqn Ykjoajp: Bkn zalnerejc qo, ej iwju ywoao, kb pda xajabepo kb Pnewh xu Fqnu:Bkn pnwjolknpejc qo xaukjz Oawo pk xa pneaz bkn lnapajzaz kbbajyao: Bkn wxkheodejc pda bnaa Ouopai kb Ajcheod Hwso ej w jaecdxkqnejc Lnkrejya, aopwxheodejc pdanaej wj Wnxepnwnu ckranjiajp, wjz ajhwncejc epo Xkqjzwneao ok wo pk najzan ep wp kjya wj atwilha wjz bep ejopnqiajp bkn ejpnkzqyejc pda owia wxokhqpa nqha ejpk pdaoa Ykhkjeao: Bkn pwgejc wswu kqn Ydwnpano, wxkheodejc kqn ikop rwhqwxha Hwso, wjz whpanejc bqjzwiajpwhhu pda Bknio kb kqn Ckranjiajpo: Bkn oqolajzejc kqn ksj Haceohwpqnao, wjz zayhwnejc pdaioahrao ejraopaz sepd Lksan pk haceohwpa bkn qo ej whh ywoao sdwpokaran. Da dwo wxzeywpaz Ckranjiajp dana, xu zayhwnejc qo kqp kb deo Lnkpaypekj wjz swcejc Swn wcwejop qo. Da dwo lhqjzanaz kqn oawo, nwrwcaz kqn Ykwopo, xqnjp kqn pksjo, wjz zaopnkuaz pda herao kb kqn laklha. Da eo wp pdeo peia pnwjolknpejc hwnca wnieao kb bknaecj ianyajwneao pk ykilhawp pda skngo kb zawpd, zaokhwpekj wjz punwjju, whnawzu xacqj sepd yenyqiopwjyao kb Ynqahpu & lanbezu oywnyahu lwnwhhahaz ej pda ikop xwnxwnkqo wcao, wjz pkpwhhu qjsknpdu kb pda Dawz kb w yerehevaz jwpekj. Da dwo ykjopnwejaz kqn bahhks Yepevajo pwgaj Ywlpera kj pda decd Oawo pk xawn Wnio wcwejop pdaen Ykqjpnu, pk xaykia pda atayqpekjano kb pdaen bneajzo wjz Xnapdnaj, kn pk bwhh pdaioahrao xu pdaen Dwjzo. Da dwo atyepaz zkiaopey ejoqnnaypekjo wikjcop qo, wjz dwo ajzawrkqnaz pk xnejc kj pda ejdwxepwjpo kb kqn bnkjpeano, pda ianyehaoo Ejzewj Owrwcao, sdkoa gjksj nqha kb swnbwna, eo wj qjzeopejcqeodaz zaopnqypekj kb whh wcao, oatao wjz ykjzepekjo. Ej aranu opwca kb pdaoa Kllnaooekjo Sa dwra Lapepekjaz bkn Naznaoo ej pda ikop dqixha panio:  Kqn nalawpaz Lapepekjo dwra xaaj wjosanaz kjhu xu nalawpaz ejfqnu.  W Lnejya, sdkoa ydwnwypan eo pdqo iwngaz xu aranu wyp sdeyd iwu zabeja w Punwjp, eo qjbep pk xa pda nqhan kb w bnaa Laklha. Jkn dwra Sa xaaj swjpejc ej wppajpekj pk kqn Xneppeod xnapdnaj. Sa dwra swnjaz pdai bnki peia pk peia kb wppailpo xu pdaen haceohwpqna pk atpajz wj qjswnnwjpwxha fqneozeypekj kran qo. Sa dwra naiejzaz pdai kb pda yenyqiopwjyao kb kqn aiecnwpekj wjz oapphaiajp dana.  Sa dwra wllawhaz pk pdaen jwpera fqopeya wjz iwcjwjeiepu, wjz sa dwra ykjfqnaz pdai xu pda peao kb kqn ykiikj gejznaz pk zeowrks pdaoa qoqnlwpekjo, sdeyd skqhz ejarepwxhu ejpannqlp kqn ykjjaypekjo wjz yknnaolkjzajya.  Pdau pkk dwra xaaj zawb pk pda rkeya kb fqopeya wjz kb ykjowjcqejepu.  Sa iqop, pdanabkna, wymqeaoya ej pda jayaooepu, sdeyd zajkqjyao kqn Oalwnwpekj, wjz dkhz pdai, wo sa dkhz pda naop kb iwjgejz, Ajaieao ej Swn, ej Lawya Bneajzo. Sa, pdanabkna, pda Nalnaoajpwperao kb pda Qjepaz Opwpao kb Wianeyw, ej Cajanwh Ykjcnaoo, Wooaixhaz, wllawhejc pk pda Oqlnaia Fqzca kb pda sknhz bkn pda naypepqza kb kqn ejpajpekjo, zk, ej pda Jwia, wjz xu pda Wqpdknepu kb pda ckkz Laklha kb pdaoa Ykhkjeao, okhaijhu lqxheod wjz zayhwna, Pdwp pdaoa Qjepaz Ykhkjeao wna, wjz kb Necdp kqcdp pk xa Bnaa wjz Ejzalajzajp Opwpao; pdwp pdau wna Wxokhraz bnki whh Whhacewjya pk pda Xnepeod Ynksj, wjz pdwp whh lkhepeywh ykjjaypekj xapsaaj pdai wjz pda Opwpa kb Cnawp Xnepwej, eo wjz kqcdp pk xa pkpwhhu zeookhraz; wjz pdwp wo Bnaa wjz Ejzalajzajp Opwpao, pdau dwra bqhh Lksan pk haru Swn, ykjyhqza Lawya, ykjpnwyp Whhewjyao, aopwxheod Ykiianya, wjz pk zk whh kpdan Wypo wjz Pdejco sdeyd Ejzalajzajp Opwpao iwu kb necdp zk.  Wjz bkn pda oqllknp kb pdeo Zayhwnwpekj, sepd w beni nahewjya kj pda Lnkpaypekj kb Zereja Lnkrezajya, sa iqpqwhhu lhazca pk awyd kpdan kqn Herao, kqn Bknpqjao wjz kqn owynaz Dkjkn.\n",
            "We hold these truths to be self-evident, that all men are created equal, that they are endowed by their Creator with certain unalienable Rights, that among these are Life, Liberty, and the pursuit of Happiness. That to secure these rights, Governments are instituted among Men, deriving their just powers from the consent of the governed, That whenever any Form of Government becomes destructive of these ends, it is the Right of the People to alter or to abolish it, and to institute new Government, laying its foundation on such principles and organizing its powers in such form, as to them shall seem most likely to effect their Safety and Happiness.  Prudence, indeed, will dictate that Governments long established should not be changed for light and transient causes; and accordingly all experience hath shown, that mankind are more disposed to suffer, while evils are sufferable, than to right themselves by abolishing the forms to which they are accustomed.  But when a long train of abuses and usurpations, pursuing invariably the same Object evinces a design to reduce them under absolute Despotism, it is their right, it is their duty, to throw off such Government, and to provide new Guards for their future security. --Such has been the patient sufferance of these Colonies; and such is now the necessity which constrains them to alter their former Systems of Government. The history of the present King of Great Britain is a history of repeated injuries and usurpations, all having in direct object the establishment of an absolute Tyranny over these States.  To prove this, let Facts be submitted to a candid world. He has refused his Assent to Laws, the most wholesome and necessary for the public good. He has forbidden his Governors to pass Laws of immediate and pressing importance, unless suspended in their operation till his Assent should be obtained; and when so suspended, he has utterly neglected to attend to them. He has refused to pass other Laws for the accommodation of large districts of people, unless those people would relinquish the right of Representation in the Legislature, a right inestimable to them and formidable to tyrants only. He has called together legislative bodies at places unusual, uncomfortable, and distant from the depository of their Public Records, for the sole purpose of fatiguing them into compliance with his measures. He has dissolved Representative Houses repeatedly, for opposing with manly firmness his invasions on the rights of the people. He has refused for a long time, after such dissolutions, to cause others to be elected; whereby the Legislative Powers, incapable of Annihilation, have returned to the People at large for their exercise; the State remaining in the mean time exposed to all the dangers of invasion from without, and convulsions within. He has endeavoured to prevent the population of these States; for that purpose obstructing the Laws of Naturalization of Foreigners; refusing to pass others to encourage their migration hither, and raising the conditions of new Appropriations of Lands. He has obstructed the Administration of Justice, by refusing his Assent to Laws for establishing Judiciary Powers. He has made judges dependent on his Will alone, for the tenure of their offices, and the amount and payment of their salaries. He has erected a multitude of New Offices, and sent hither swarms of Officers to harass our People, and eat out their substance. He has kept among us, in times of peace, Standing Armies without the Consent of our legislatures. He has affected to render the Military independent of and superior to the Civil Power. He has combined with others to subject us to a jurisdiction foreign to our constitution, and unacknowledged by our laws; giving his Assent to their Acts of pretended legislation: For quartering large bodies of armed troops among us: For protecting them, by a mock Trial, from Punishment for any Murders which they should commit on the Inhabitants of these States: For cutting off our Trade with all parts of the world: For imposing taxes on us without our Consent: For depriving us, in many cases, of the benefits of Trial by Jury:For transporting us beyond Seas to be tried for pretended offences: For abolishing the free System of English Laws in a neighbouring Province, establishing therein an Arbitrary government, and enlarging its Boundaries so as to render it at once an example and fit instrument for introducing the same absolute rule into these Colonies: For taking away our Charters, abolishing our most valuable Laws, and altering fundamentally the Forms of our Governments: For suspending our own Legislatures, and declaring themselves invested with Power to legislate for us in all cases whatsoever. He has abdicated Government here, by declaring us out of his Protection and waging War against us. He has plundered our seas, ravaged our Coasts, burnt our towns, and destroyed the lives of our people. He is at this time transporting large armies of foreign mercenaries to compleat the works of death, desolation and tyranny, already begun with circumstances of Cruelty & perfidy scarcely paralleled in the most barbarous ages, and totally unworthy of the Head of a civilized nation. He has constrained our fellow Citizens taken Captive on the high Seas to bear Arms against their Country, to become the executioners of their friends and Brethren, or to fall themselves by their Hands. He has excited domestic insurrections amongst us, and has endeavoured to bring on the inhabitants of our frontiers, the merciless Indian Savages, whose known rule of warfare, is an undistinguished destruction of all ages, sexes and conditions. In every stage of these Oppressions We have Petitioned for Redress in the most humble terms:  Our repeated Petitions have been answered only by repeated injury.  A Prince, whose character is thus marked by every act which may define a Tyrant, is unfit to be the ruler of a free People. Nor have We been wanting in attention to our Brittish brethren. We have warned them from time to time of attempts by their legislature to extend an unwarrantable jurisdiction over us. We have reminded them of the circumstances of our emigration and settlement here.  We have appealed to their native justice and magnanimity, and we have conjured them by the ties of our common kindred to disavow these usurpations, which would inevitably interrupt our connections and correspondence.  They too have been deaf to the voice of justice and of consanguinity.  We must, therefore, acquiesce in the necessity, which denounces our Separation, and hold them, as we hold the rest of mankind, Enemies in War, in Peace Friends. We, therefore, the Representatives of the United States of America, in General Congress, Assembled, appealing to the Supreme Judge of the world for the rectitude of our intentions, do, in the Name, and by the Authority of the good People of these Colonies, solemnly publish and declare, That these United Colonies are, and of Right ought to be Free and Independent States; that they are Absolved from all Allegiance to the British Crown, and that all political connection between them and the State of Great Britain, is and ought to be totally dissolved; and that as Free and Independent States, they have full Power to levy War, conclude Peace, contract Alliances, establish Commerce, and to do all other Acts and Things which Independent States may of right do.  And for the support of this Declaration, with a firm reliance on the Protection of Divine Providence, we mutually pledge to each other our Lives, our Fortunes and our sacred Honor.\n"
          ],
          "name": "stdout"
        }
      ]
    },
    {
      "metadata": {
        "id": "mfhnn_VViAD3",
        "colab_type": "text"
      },
      "cell_type": "markdown",
      "source": [
        "## other weird stuff i was playing around with... \n",
        "\n",
        "### *Nothing to See Here*"
      ]
    },
    {
      "metadata": {
        "id": "0zW7oP6_JpPn",
        "colab_type": "code",
        "colab": {}
      },
      "cell_type": "code",
      "source": [
        "from collections import defaultdict\n",
        "import re\n",
        "import pandas as pd\n",
        "import json\n",
        "\n",
        "#  LETTER FREQUENCY\n",
        "# letter_freq = defaultdict(int)\n",
        "# text_list = encoded_text\n",
        "\n",
        "# for text in text_list:\n",
        "#     for word in text.split():\n",
        "#         letter_freq[word] += 1\n",
        "\n",
        "# max_key = max(letter_freq, key=lambda k: letter_freq[k])\n",
        "# print(max_key)\n",
        "\n",
        "# pd.DataFrame.from_dict(letter_freq, orient='index') \\\n",
        "# .sort_values(0, ascending=False) \\\n",
        "# .rename(columns={0: 'abs_freq'})\n",
        "\n",
        "\n",
        "\n",
        "#  WORD FREQUENCY\n",
        "encoded_word_freq = defaultdict(int)\n",
        "wrds_list = re.split(r'[, ]', encoded_text)\n",
        "for text in wrds_list:\n",
        "    for word in text.split():\n",
        "        encoded_word_freq[word] += 1\n",
        "\n",
        "decoded_word_freq = defaultdict(int)\n",
        "decoded_wrds_list = re.split(r'[, ]', decoded_text)\n",
        "for text in decoded_wrds_list:\n",
        "    for word in text.split():\n",
        "        decoded_word_freq[word] += 1\n",
        "        \n",
        "        \n",
        "pd.DataFrame.from_dict(encoded_word_freq, orient='index') \\\n",
        ".sort_values(0, ascending=False) \\\n",
        ".rename(columns={0: 'abs_freq'})\n",
        "\n",
        "# print(decoded_text)\n",
        "# print(decoded_word_freq)\n",
        "\n",
        "# pd.DataFrame.from_dict(decoded_word_freq, orient='index') \\\n",
        "# .sort_values(0, ascending=False) \\\n",
        "# .rename(columns={0: 'abs_freq'})"
      ],
      "execution_count": 0,
      "outputs": []
    },
    {
      "metadata": {
        "id": "UZ51dZKgkiYh",
        "colab_type": "code",
        "colab": {}
      },
      "cell_type": "code",
      "source": [
        "import re\n",
        "string = 'this is, a test of splitting; on two delimiters'\n",
        "a = re.split(r'[,;]', string)\n",
        "print(a)\n",
        "# ['this is', ' a test of splitting', ' on two delimiters']\n",
        "b = re.split(r'[, ]', string)\n",
        "# ['this', 'is', '', 'a', 'test', 'of', 'splitting;', 'on', 'two', 'delimiters']\n"
      ],
      "execution_count": 0,
      "outputs": []
    },
    {
      "metadata": {
        "id": "aFYKOn_eUaIK",
        "colab_type": "code",
        "colab": {}
      },
      "cell_type": "code",
      "source": [
        "import pandas as pd\n",
        "decoded_text = handleDecodeText(encoded_text)\n",
        "s1 = pd.Series(decoded_word_freq).sort_values(0, ascending=False)\n",
        "s2 = pd.Series(encoded_word_freq).sort_values(0, ascending=False)\n",
        "# print(s1[['the', 'we', 'us']])\n",
        "print(s2)\n",
        "data = {'decoded': s1, 'encoded': s2}\n",
        "\n",
        "# df = pd.DataFrame(data, columns=['decoded', 'encoded']) \n",
        "# .sort_values(0, ascending=False) \n",
        "\n",
        "# print(df)\n"
      ],
      "execution_count": 0,
      "outputs": []
    },
    {
      "metadata": {
        "id": "z6iSI2kH09Ef",
        "colab_type": "code",
        "colab": {}
      },
      "cell_type": "code",
      "source": [
        ""
      ],
      "execution_count": 0,
      "outputs": []
    }
  ]
}