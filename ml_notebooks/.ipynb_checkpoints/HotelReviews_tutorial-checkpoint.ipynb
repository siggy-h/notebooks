{
 "cells": [
  {
   "cell_type": "markdown",
   "metadata": {},
   "source": [
    "## Data Camp Tutorial \n",
    "#### Detecting True and Deceptive Hotel Reviews using Machine Learning\n",
    "\n",
    "https://www.datacamp.com/community/tutorials/machine-learning-hotel-reviews\n",
    "\n",
    "http://myleott.com/op-spam.html"
   ]
  },
  {
   "cell_type": "markdown",
   "metadata": {},
   "source": [
    "_Before getting anything going, i set up a virtual environment to use with ML notebooks run locally._ "
   ]
  },
  {
   "cell_type": "code",
   "execution_count": 272,
   "metadata": {},
   "outputs": [],
   "source": [
    "import os\n",
    "import fnmatch\n",
    "from textblob import TextBlob\n",
    "import pandas as pd\n",
    "from sklearn.feature_extraction.text import TfidfVectorizer\n",
    "from nltk.corpus import stopwords\n",
    "from nltk import pos_tag,pos_tag_sents\n",
    "import regex as re\n",
    "import operator\n",
    "from sklearn.svm import SVC, LinearSVC\n",
    "from sklearn.metrics import classification_report, accuracy_score, confusion_matrix\n",
    "\n",
    "from sklearn.model_selection import train_test_split  \n",
    "# from sklearn.cross_validation import train_test_split  \n",
    "\n",
    "from sklearn import metrics\n",
    "from sklearn import svm\n",
    "from sklearn.grid_search import GridSearchCV\n",
    "import pickle"
   ]
  },
  {
   "cell_type": "markdown",
   "metadata": {},
   "source": [
    "Fetch text files & join text into one\n",
    "The path contains a number of .txt files downloaded from http://myleott.com/op-spam.html"
   ]
  },
  {
   "cell_type": "code",
   "execution_count": 273,
   "metadata": {},
   "outputs": [],
   "source": [
    "path = '../tutorials/HotelReviews_tutorial/op_spam_train' # edit path for your local dir\n",
    "label = []\n",
    "configfiles = [os.path.join(subdir,f)\n",
    "              for subdir, dirs, files in os.walk(path)\n",
    "                for f in fnmatch.filter(files, '*.txt')]"
   ]
  },
  {
   "cell_type": "markdown",
   "metadata": {},
   "source": [
    "_There should be 1600 paths each representing a new text file._\n",
    "\n"
   ]
  },
  {
   "cell_type": "code",
   "execution_count": 274,
   "metadata": {},
   "outputs": [
    {
     "data": {
      "text/plain": [
       "1600"
      ]
     },
     "execution_count": 274,
     "metadata": {},
     "output_type": "execute_result"
    }
   ],
   "source": [
    "len(configfiles)"
   ]
  },
  {
   "cell_type": "markdown",
   "metadata": {},
   "source": [
    "ex: _print one of the text file paths to see_"
   ]
  },
  {
   "cell_type": "code",
   "execution_count": 275,
   "metadata": {},
   "outputs": [
    {
     "data": {
      "text/plain": [
       "'../tutorials/HotelReviews_tutorial/op_spam_train/positive_polarity/deceptive_from_MTurk/fold2/d_talbott_8.txt'"
      ]
     },
     "execution_count": 275,
     "metadata": {},
     "output_type": "execute_result"
    }
   ],
   "source": [
    "configfiles[1]"
   ]
  },
  {
   "cell_type": "markdown",
   "metadata": {},
   "source": [
    "## Extract Labels into a dataframe\n",
    "Next use regex to filter out the labels \"truth\" || \"deceptive\" from the .txt files\n"
   ]
  },
  {
   "cell_type": "code",
   "execution_count": 276,
   "metadata": {},
   "outputs": [],
   "source": [
    "for f in configfiles:\n",
    "    c = re.search('(trut|deceptiv)\\w',f)\n",
    "    label.append(c.group())"
   ]
  },
  {
   "cell_type": "markdown",
   "metadata": {},
   "source": [
    "create a dataframe from the \"label\" list created above"
   ]
  },
  {
   "cell_type": "code",
   "execution_count": 277,
   "metadata": {},
   "outputs": [],
   "source": [
    "labels = pd.DataFrame(label, columns = ['Labels'])"
   ]
  },
  {
   "cell_type": "code",
   "execution_count": 278,
   "metadata": {},
   "outputs": [
    {
     "data": {
      "text/html": [
       "<div>\n",
       "<style scoped>\n",
       "    .dataframe tbody tr th:only-of-type {\n",
       "        vertical-align: middle;\n",
       "    }\n",
       "\n",
       "    .dataframe tbody tr th {\n",
       "        vertical-align: top;\n",
       "    }\n",
       "\n",
       "    .dataframe thead th {\n",
       "        text-align: right;\n",
       "    }\n",
       "</style>\n",
       "<table border=\"1\" class=\"dataframe\">\n",
       "  <thead>\n",
       "    <tr style=\"text-align: right;\">\n",
       "      <th></th>\n",
       "      <th>Labels</th>\n",
       "    </tr>\n",
       "  </thead>\n",
       "  <tbody>\n",
       "    <tr>\n",
       "      <th>0</th>\n",
       "      <td>deceptive</td>\n",
       "    </tr>\n",
       "    <tr>\n",
       "      <th>1</th>\n",
       "      <td>deceptive</td>\n",
       "    </tr>\n",
       "    <tr>\n",
       "      <th>2</th>\n",
       "      <td>deceptive</td>\n",
       "    </tr>\n",
       "    <tr>\n",
       "      <th>3</th>\n",
       "      <td>deceptive</td>\n",
       "    </tr>\n",
       "    <tr>\n",
       "      <th>4</th>\n",
       "      <td>deceptive</td>\n",
       "    </tr>\n",
       "  </tbody>\n",
       "</table>\n",
       "</div>"
      ],
      "text/plain": [
       "      Labels\n",
       "0  deceptive\n",
       "1  deceptive\n",
       "2  deceptive\n",
       "3  deceptive\n",
       "4  deceptive"
      ]
     },
     "execution_count": 278,
     "metadata": {},
     "output_type": "execute_result"
    }
   ],
   "source": [
    "labels.head(5)"
   ]
  },
  {
   "cell_type": "markdown",
   "metadata": {},
   "source": [
    "## Create a list of the reviews\n",
    "Once you have extracted all the labels, it's time to extract the reviews from the text files!\n"
   ]
  },
  {
   "cell_type": "code",
   "execution_count": 279,
   "metadata": {},
   "outputs": [],
   "source": [
    "review = []\n",
    "directory = os.path.join('../tutorials/HotelReviews_tutorial/op_spam_train')\n",
    "\n",
    "for subdir, dirs, files in os.walk(directory):\n",
    "    # print (subdir)\n",
    "    for file in files:\n",
    "        if fnmatch.filter(files, '*.txt'):\n",
    "            f = open(os.path.join(subdir, file), 'r')\n",
    "            a = f.read()\n",
    "            review.append(a)\n"
   ]
  },
  {
   "cell_type": "markdown",
   "metadata": {},
   "source": [
    "Create a dataframe of the reviews "
   ]
  },
  {
   "cell_type": "code",
   "execution_count": 280,
   "metadata": {},
   "outputs": [
    {
     "data": {
      "text/html": [
       "<div>\n",
       "<style scoped>\n",
       "    .dataframe tbody tr th:only-of-type {\n",
       "        vertical-align: middle;\n",
       "    }\n",
       "\n",
       "    .dataframe tbody tr th {\n",
       "        vertical-align: top;\n",
       "    }\n",
       "\n",
       "    .dataframe thead th {\n",
       "        text-align: right;\n",
       "    }\n",
       "</style>\n",
       "<table border=\"1\" class=\"dataframe\">\n",
       "  <thead>\n",
       "    <tr style=\"text-align: right;\">\n",
       "      <th></th>\n",
       "      <th>HotelReviews</th>\n",
       "    </tr>\n",
       "  </thead>\n",
       "  <tbody>\n",
       "    <tr>\n",
       "      <th>0</th>\n",
       "      <td>excellent staff and customer service, very cle...</td>\n",
       "    </tr>\n",
       "    <tr>\n",
       "      <th>1</th>\n",
       "      <td>My stay at this hotel was one of the best I ha...</td>\n",
       "    </tr>\n",
       "    <tr>\n",
       "      <th>2</th>\n",
       "      <td>We just got back from a trip to Chicago for my...</td>\n",
       "    </tr>\n",
       "    <tr>\n",
       "      <th>3</th>\n",
       "      <td>I have to say that the Hard Rock Hotel in Chic...</td>\n",
       "    </tr>\n",
       "    <tr>\n",
       "      <th>4</th>\n",
       "      <td>My husband and I recently stayed at the Hard R...</td>\n",
       "    </tr>\n",
       "  </tbody>\n",
       "</table>\n",
       "</div>"
      ],
      "text/plain": [
       "                                        HotelReviews\n",
       "0  excellent staff and customer service, very cle...\n",
       "1  My stay at this hotel was one of the best I ha...\n",
       "2  We just got back from a trip to Chicago for my...\n",
       "3  I have to say that the Hard Rock Hotel in Chic...\n",
       "4  My husband and I recently stayed at the Hard R..."
      ]
     },
     "execution_count": 280,
     "metadata": {},
     "output_type": "execute_result"
    }
   ],
   "source": [
    "reviews = pd.DataFrame(review, columns = ['HotelReviews'])\n",
    "reviews.head(5)"
   ]
  },
  {
   "cell_type": "markdown",
   "metadata": {},
   "source": [
    "### Merge Labels and Reviews DataFrames together!\n",
    "Create a new Dataframe called \"result\" "
   ]
  },
  {
   "cell_type": "code",
   "execution_count": 281,
   "metadata": {},
   "outputs": [
    {
     "data": {
      "text/html": [
       "<div>\n",
       "<style scoped>\n",
       "    .dataframe tbody tr th:only-of-type {\n",
       "        vertical-align: middle;\n",
       "    }\n",
       "\n",
       "    .dataframe tbody tr th {\n",
       "        vertical-align: top;\n",
       "    }\n",
       "\n",
       "    .dataframe thead th {\n",
       "        text-align: right;\n",
       "    }\n",
       "</style>\n",
       "<table border=\"1\" class=\"dataframe\">\n",
       "  <thead>\n",
       "    <tr style=\"text-align: right;\">\n",
       "      <th></th>\n",
       "      <th>HotelReviews</th>\n",
       "      <th>Labels</th>\n",
       "    </tr>\n",
       "  </thead>\n",
       "  <tbody>\n",
       "    <tr>\n",
       "      <th>0</th>\n",
       "      <td>excellent staff and customer service, very cle...</td>\n",
       "      <td>deceptive</td>\n",
       "    </tr>\n",
       "    <tr>\n",
       "      <th>1</th>\n",
       "      <td>my stay at this hotel was one of the best i ha...</td>\n",
       "      <td>deceptive</td>\n",
       "    </tr>\n",
       "    <tr>\n",
       "      <th>2</th>\n",
       "      <td>we just got back from a trip to chicago for my...</td>\n",
       "      <td>deceptive</td>\n",
       "    </tr>\n",
       "    <tr>\n",
       "      <th>3</th>\n",
       "      <td>i have to say that the hard rock hotel in chic...</td>\n",
       "      <td>deceptive</td>\n",
       "    </tr>\n",
       "    <tr>\n",
       "      <th>4</th>\n",
       "      <td>my husband and i recently stayed at the hard r...</td>\n",
       "      <td>deceptive</td>\n",
       "    </tr>\n",
       "  </tbody>\n",
       "</table>\n",
       "</div>"
      ],
      "text/plain": [
       "                                        HotelReviews     Labels\n",
       "0  excellent staff and customer service, very cle...  deceptive\n",
       "1  my stay at this hotel was one of the best i ha...  deceptive\n",
       "2  we just got back from a trip to chicago for my...  deceptive\n",
       "3  i have to say that the hard rock hotel in chic...  deceptive\n",
       "4  my husband and i recently stayed at the hard r...  deceptive"
      ]
     },
     "execution_count": 281,
     "metadata": {},
     "output_type": "execute_result"
    }
   ],
   "source": [
    "result = pd.merge(reviews, labels,right_index=True,left_index = True)\n",
    "# merges dataFrames into new DF called result\n",
    "\n",
    "result['HotelReviews'] = result['HotelReviews'].map(lambda x: x.lower())\n",
    "# maps over all of column labeler \"HotelReviews\" and transform text to lowercase\n",
    "\n",
    "result.head()"
   ]
  },
  {
   "cell_type": "markdown",
   "metadata": {},
   "source": [
    "## Removing stopwords\n",
    "Stopwords are not meaningful and are not helpful in training a model\n",
    "* Create a new column called \"review_without_stopwords\""
   ]
  },
  {
   "cell_type": "code",
   "execution_count": 282,
   "metadata": {},
   "outputs": [
    {
     "name": "stdout",
     "output_type": "stream",
     "text": [
      "[nltk_data] Downloading package stopwords to /Users/siggy/nltk_data...\n",
      "[nltk_data]   Package stopwords is already up-to-date!\n"
     ]
    },
    {
     "data": {
      "text/plain": [
       "True"
      ]
     },
     "execution_count": 282,
     "metadata": {},
     "output_type": "execute_result"
    }
   ],
   "source": [
    "import nltk\n",
    "# nltk.download() # this opens a gui python downloader.\n",
    "nltk.download('stopwords')"
   ]
  },
  {
   "cell_type": "markdown",
   "metadata": {},
   "source": [
    "_**Note:** I had some issues getting the nltk above working. I got an error about SSL certificates and found a fix here:_ https://stackoverflow.com/questions/41348621/ssl-error-downloading-nltk-data"
   ]
  },
  {
   "cell_type": "code",
   "execution_count": 283,
   "metadata": {},
   "outputs": [],
   "source": [
    "stop = stopwords.words('english')"
   ]
  },
  {
   "cell_type": "markdown",
   "metadata": {},
   "source": [
    "_Creates a new column in the result DataFrame which is the hotelreview excluding any stop words_"
   ]
  },
  {
   "cell_type": "code",
   "execution_count": 284,
   "metadata": {},
   "outputs": [],
   "source": [
    "result['review_without_stopwords'] = result['HotelReviews'].apply(\n",
    "    lambda x: ' '.join([word for word in x.split() if word not in (stop)]))"
   ]
  },
  {
   "cell_type": "code",
   "execution_count": 285,
   "metadata": {},
   "outputs": [
    {
     "data": {
      "text/html": [
       "<div>\n",
       "<style scoped>\n",
       "    .dataframe tbody tr th:only-of-type {\n",
       "        vertical-align: middle;\n",
       "    }\n",
       "\n",
       "    .dataframe tbody tr th {\n",
       "        vertical-align: top;\n",
       "    }\n",
       "\n",
       "    .dataframe thead th {\n",
       "        text-align: right;\n",
       "    }\n",
       "</style>\n",
       "<table border=\"1\" class=\"dataframe\">\n",
       "  <thead>\n",
       "    <tr style=\"text-align: right;\">\n",
       "      <th></th>\n",
       "      <th>HotelReviews</th>\n",
       "      <th>Labels</th>\n",
       "      <th>review_without_stopwords</th>\n",
       "    </tr>\n",
       "  </thead>\n",
       "  <tbody>\n",
       "    <tr>\n",
       "      <th>0</th>\n",
       "      <td>excellent staff and customer service, very cle...</td>\n",
       "      <td>deceptive</td>\n",
       "      <td>excellent staff customer service, clean spotle...</td>\n",
       "    </tr>\n",
       "    <tr>\n",
       "      <th>1</th>\n",
       "      <td>my stay at this hotel was one of the best i ha...</td>\n",
       "      <td>deceptive</td>\n",
       "      <td>stay hotel one best ever had! location, servic...</td>\n",
       "    </tr>\n",
       "    <tr>\n",
       "      <th>2</th>\n",
       "      <td>we just got back from a trip to chicago for my...</td>\n",
       "      <td>deceptive</td>\n",
       "      <td>got back trip chicago 30th birthday could impr...</td>\n",
       "    </tr>\n",
       "    <tr>\n",
       "      <th>3</th>\n",
       "      <td>i have to say that the hard rock hotel in chic...</td>\n",
       "      <td>deceptive</td>\n",
       "      <td>say hard rock hotel chicago cool place stay. f...</td>\n",
       "    </tr>\n",
       "    <tr>\n",
       "      <th>4</th>\n",
       "      <td>my husband and i recently stayed at the hard r...</td>\n",
       "      <td>deceptive</td>\n",
       "      <td>husband recently stayed hard rock hotel chicag...</td>\n",
       "    </tr>\n",
       "  </tbody>\n",
       "</table>\n",
       "</div>"
      ],
      "text/plain": [
       "                                        HotelReviews     Labels  \\\n",
       "0  excellent staff and customer service, very cle...  deceptive   \n",
       "1  my stay at this hotel was one of the best i ha...  deceptive   \n",
       "2  we just got back from a trip to chicago for my...  deceptive   \n",
       "3  i have to say that the hard rock hotel in chic...  deceptive   \n",
       "4  my husband and i recently stayed at the hard r...  deceptive   \n",
       "\n",
       "                            review_without_stopwords  \n",
       "0  excellent staff customer service, clean spotle...  \n",
       "1  stay hotel one best ever had! location, servic...  \n",
       "2  got back trip chicago 30th birthday could impr...  \n",
       "3  say hard rock hotel chicago cool place stay. f...  \n",
       "4  husband recently stayed hard rock hotel chicag...  "
      ]
     },
     "execution_count": 285,
     "metadata": {},
     "output_type": "execute_result"
    }
   ],
   "source": [
    "result.head()"
   ]
  },
  {
   "cell_type": "code",
   "execution_count": 286,
   "metadata": {},
   "outputs": [
    {
     "data": {
      "text/markdown": [
       "__Original:__"
      ],
      "text/plain": [
       "<IPython.core.display.Markdown object>"
      ]
     },
     "metadata": {},
     "output_type": "display_data"
    },
    {
     "name": "stdout",
     "output_type": "stream",
     "text": [
      "excellent staff and customer service, very clean and spotless. elegant and luxurious with a beautiful ocean view. the bed is very comfortable and relaxing. i give it a five star.\n",
      "\n"
     ]
    },
    {
     "data": {
      "text/markdown": [
       "__Without Stopwords:__"
      ],
      "text/plain": [
       "<IPython.core.display.Markdown object>"
      ]
     },
     "metadata": {},
     "output_type": "display_data"
    },
    {
     "name": "stdout",
     "output_type": "stream",
     "text": [
      "excellent staff customer service, clean spotless. elegant luxurious beautiful ocean view. bed comfortable relaxing. give five star.\n"
     ]
    }
   ],
   "source": [
    "from IPython.display import Markdown, display\n",
    "def printmd(string):\n",
    "    display(Markdown(string))\n",
    "    \n",
    "printmd('__Original:__')\n",
    "print(result['HotelReviews'][0])\n",
    "printmd(\"__Without Stopwords:__\")\n",
    "print(result['review_without_stopwords'][0])"
   ]
  },
  {
   "cell_type": "code",
   "execution_count": 287,
   "metadata": {},
   "outputs": [],
   "source": [
    "# t = result[result.Labels == 'truth']\n",
    "# print(t)\n",
    "\n",
    "# print(t['HotelReviews'][400])"
   ]
  },
  {
   "cell_type": "markdown",
   "metadata": {},
   "source": [
    "<hr>"
   ]
  },
  {
   "cell_type": "markdown",
   "metadata": {},
   "source": [
    "## Extra Save the DF to a CSV\n",
    "_**note:**_ You can save the result DF to a csv. This is useful if you want to use colabratory rather than a local notebook. Do you data wrangling on your machine then load the compiled dataframe to google docs and import into colabratory. :)  <br>\n",
    "For somereason trying to make a csv works here but errors out further down in the doc. Some of the data the code further down returns is probably not a real string. FYI: The result.csv doc will be saved in same dir as this notebook. "
   ]
  },
  {
   "cell_type": "code",
   "execution_count": 288,
   "metadata": {},
   "outputs": [],
   "source": [
    "# result.to_csv('result.csv', sep='\\t', index=False)\n",
    "result.to_csv('result.csv', index=False)\n"
   ]
  },
  {
   "cell_type": "markdown",
   "metadata": {},
   "source": [
    "<hr>"
   ]
  },
  {
   "cell_type": "markdown",
   "metadata": {},
   "source": [
    "## Extract parts of speech to be used as Feature Input\n",
    "\"TextBlob is a Python library for processing textual data. <br> \n",
    "It provides a simple API for diving into ordinary natural language processing (NLP) <br>\n",
    "tasks such as part-of-speech tagging, noun phrase extraction, sentiment analysis, <br>\n",
    "classification, translation, and more.\""
   ]
  },
  {
   "cell_type": "code",
   "execution_count": 289,
   "metadata": {},
   "outputs": [
    {
     "name": "stdout",
     "output_type": "stream",
     "text": [
      "[nltk_data] Downloading package punkt to /Users/siggy/nltk_data...\n",
      "[nltk_data]   Package punkt is already up-to-date!\n",
      "[nltk_data] Downloading package averaged_perceptron_tagger to\n",
      "[nltk_data]     /Users/siggy/nltk_data...\n",
      "[nltk_data]   Package averaged_perceptron_tagger is already up-to-\n",
      "[nltk_data]       date!\n"
     ]
    },
    {
     "data": {
      "text/plain": [
       "True"
      ]
     },
     "execution_count": 289,
     "metadata": {},
     "output_type": "execute_result"
    }
   ],
   "source": [
    "import nltk\n",
    "nltk.download('punkt')\n",
    "nltk.download('averaged_perceptron_tagger')"
   ]
  },
  {
   "cell_type": "code",
   "execution_count": 290,
   "metadata": {},
   "outputs": [],
   "source": [
    "def pos(review_without_stopwords):\n",
    "    return TextBlob(review_without_stopwords).tags"
   ]
  },
  {
   "cell_type": "code",
   "execution_count": 291,
   "metadata": {},
   "outputs": [],
   "source": [
    "# This takes a pretty long time to run\n",
    "os = result.review_without_stopwords.apply(pos)\n",
    "os1 = pd.DataFrame(os)"
   ]
  },
  {
   "cell_type": "code",
   "execution_count": 292,
   "metadata": {},
   "outputs": [
    {
     "data": {
      "text/html": [
       "<div>\n",
       "<style scoped>\n",
       "    .dataframe tbody tr th:only-of-type {\n",
       "        vertical-align: middle;\n",
       "    }\n",
       "\n",
       "    .dataframe tbody tr th {\n",
       "        vertical-align: top;\n",
       "    }\n",
       "\n",
       "    .dataframe thead th {\n",
       "        text-align: right;\n",
       "    }\n",
       "</style>\n",
       "<table border=\"1\" class=\"dataframe\">\n",
       "  <thead>\n",
       "    <tr style=\"text-align: right;\">\n",
       "      <th></th>\n",
       "      <th>review_without_stopwords</th>\n",
       "    </tr>\n",
       "  </thead>\n",
       "  <tbody>\n",
       "    <tr>\n",
       "      <th>0</th>\n",
       "      <td>[(excellent, JJ), (staff, NN), (customer, NN),...</td>\n",
       "    </tr>\n",
       "    <tr>\n",
       "      <th>1</th>\n",
       "      <td>[(stay, JJ), (hotel, NN), (one, CD), (best, JJ...</td>\n",
       "    </tr>\n",
       "    <tr>\n",
       "      <th>2</th>\n",
       "      <td>[(got, VBD), (back, RB), (trip, NN), (chicago,...</td>\n",
       "    </tr>\n",
       "    <tr>\n",
       "      <th>3</th>\n",
       "      <td>[(say, VB), (hard, JJ), (rock, NN), (hotel, NN...</td>\n",
       "    </tr>\n",
       "    <tr>\n",
       "      <th>4</th>\n",
       "      <td>[(husband, NN), (recently, RB), (stayed, VBD),...</td>\n",
       "    </tr>\n",
       "  </tbody>\n",
       "</table>\n",
       "</div>"
      ],
      "text/plain": [
       "                            review_without_stopwords\n",
       "0  [(excellent, JJ), (staff, NN), (customer, NN),...\n",
       "1  [(stay, JJ), (hotel, NN), (one, CD), (best, JJ...\n",
       "2  [(got, VBD), (back, RB), (trip, NN), (chicago,...\n",
       "3  [(say, VB), (hard, JJ), (rock, NN), (hotel, NN...\n",
       "4  [(husband, NN), (recently, RB), (stayed, VBD),..."
      ]
     },
     "execution_count": 292,
     "metadata": {},
     "output_type": "execute_result"
    }
   ],
   "source": [
    "os1.head()"
   ]
  },
  {
   "cell_type": "markdown",
   "metadata": {},
   "source": [
    "* \"You will not be able to vectorize a list which you will be feeding into the model. So, you will have to convert these rows of lists into string.\"\n",
    "\n",
    "* \"Let's convert each row into a string, where each word will be joined with its corresponding pos using a forward slash, and a single space will separate the words.\""
   ]
  },
  {
   "cell_type": "code",
   "execution_count": 293,
   "metadata": {},
   "outputs": [],
   "source": [
    "os1['pos'] = os1['review_without_stopwords'].map(\n",
    "    lambda x:\" \".join([\"/\".join(x) for x in x ]) )\n"
   ]
  },
  {
   "cell_type": "markdown",
   "metadata": {},
   "source": [
    "* Finally, let's merge the pos column with the main result dataframe and print first few rows of it!"
   ]
  },
  {
   "cell_type": "code",
   "execution_count": 294,
   "metadata": {},
   "outputs": [
    {
     "data": {
      "text/html": [
       "<div>\n",
       "<style scoped>\n",
       "    .dataframe tbody tr th:only-of-type {\n",
       "        vertical-align: middle;\n",
       "    }\n",
       "\n",
       "    .dataframe tbody tr th {\n",
       "        vertical-align: top;\n",
       "    }\n",
       "\n",
       "    .dataframe thead th {\n",
       "        text-align: right;\n",
       "    }\n",
       "</style>\n",
       "<table border=\"1\" class=\"dataframe\">\n",
       "  <thead>\n",
       "    <tr style=\"text-align: right;\">\n",
       "      <th></th>\n",
       "      <th>HotelReviews</th>\n",
       "      <th>Labels</th>\n",
       "      <th>review_without_stopwords_x</th>\n",
       "      <th>review_without_stopwords_y</th>\n",
       "      <th>pos</th>\n",
       "    </tr>\n",
       "  </thead>\n",
       "  <tbody>\n",
       "    <tr>\n",
       "      <th>0</th>\n",
       "      <td>excellent staff and customer service, very cle...</td>\n",
       "      <td>deceptive</td>\n",
       "      <td>excellent staff customer service, clean spotle...</td>\n",
       "      <td>[(excellent, JJ), (staff, NN), (customer, NN),...</td>\n",
       "      <td>excellent/JJ staff/NN customer/NN service/NN c...</td>\n",
       "    </tr>\n",
       "    <tr>\n",
       "      <th>1</th>\n",
       "      <td>my stay at this hotel was one of the best i ha...</td>\n",
       "      <td>deceptive</td>\n",
       "      <td>stay hotel one best ever had! location, servic...</td>\n",
       "      <td>[(stay, JJ), (hotel, NN), (one, CD), (best, JJ...</td>\n",
       "      <td>stay/JJ hotel/NN one/CD best/JJS ever/RB had/V...</td>\n",
       "    </tr>\n",
       "    <tr>\n",
       "      <th>2</th>\n",
       "      <td>we just got back from a trip to chicago for my...</td>\n",
       "      <td>deceptive</td>\n",
       "      <td>got back trip chicago 30th birthday could impr...</td>\n",
       "      <td>[(got, VBD), (back, RB), (trip, NN), (chicago,...</td>\n",
       "      <td>got/VBD back/RB trip/NN chicago/NN 30th/CD bir...</td>\n",
       "    </tr>\n",
       "    <tr>\n",
       "      <th>3</th>\n",
       "      <td>i have to say that the hard rock hotel in chic...</td>\n",
       "      <td>deceptive</td>\n",
       "      <td>say hard rock hotel chicago cool place stay. f...</td>\n",
       "      <td>[(say, VB), (hard, JJ), (rock, NN), (hotel, NN...</td>\n",
       "      <td>say/VB hard/JJ rock/NN hotel/NN chicago/NN coo...</td>\n",
       "    </tr>\n",
       "    <tr>\n",
       "      <th>4</th>\n",
       "      <td>my husband and i recently stayed at the hard r...</td>\n",
       "      <td>deceptive</td>\n",
       "      <td>husband recently stayed hard rock hotel chicag...</td>\n",
       "      <td>[(husband, NN), (recently, RB), (stayed, VBD),...</td>\n",
       "      <td>husband/NN recently/RB stayed/VBD hard/JJ rock...</td>\n",
       "    </tr>\n",
       "  </tbody>\n",
       "</table>\n",
       "</div>"
      ],
      "text/plain": [
       "                                        HotelReviews     Labels  \\\n",
       "0  excellent staff and customer service, very cle...  deceptive   \n",
       "1  my stay at this hotel was one of the best i ha...  deceptive   \n",
       "2  we just got back from a trip to chicago for my...  deceptive   \n",
       "3  i have to say that the hard rock hotel in chic...  deceptive   \n",
       "4  my husband and i recently stayed at the hard r...  deceptive   \n",
       "\n",
       "                          review_without_stopwords_x  \\\n",
       "0  excellent staff customer service, clean spotle...   \n",
       "1  stay hotel one best ever had! location, servic...   \n",
       "2  got back trip chicago 30th birthday could impr...   \n",
       "3  say hard rock hotel chicago cool place stay. f...   \n",
       "4  husband recently stayed hard rock hotel chicag...   \n",
       "\n",
       "                          review_without_stopwords_y  \\\n",
       "0  [(excellent, JJ), (staff, NN), (customer, NN),...   \n",
       "1  [(stay, JJ), (hotel, NN), (one, CD), (best, JJ...   \n",
       "2  [(got, VBD), (back, RB), (trip, NN), (chicago,...   \n",
       "3  [(say, VB), (hard, JJ), (rock, NN), (hotel, NN...   \n",
       "4  [(husband, NN), (recently, RB), (stayed, VBD),...   \n",
       "\n",
       "                                                 pos  \n",
       "0  excellent/JJ staff/NN customer/NN service/NN c...  \n",
       "1  stay/JJ hotel/NN one/CD best/JJS ever/RB had/V...  \n",
       "2  got/VBD back/RB trip/NN chicago/NN 30th/CD bir...  \n",
       "3  say/VB hard/JJ rock/NN hotel/NN chicago/NN coo...  \n",
       "4  husband/NN recently/RB stayed/VBD hard/JJ rock...  "
      ]
     },
     "execution_count": 294,
     "metadata": {},
     "output_type": "execute_result"
    }
   ],
   "source": [
    "result = pd.merge(result, os1, right_index = True, left_index = True)\n",
    "result.head()"
   ]
  },
  {
   "cell_type": "markdown",
   "metadata": {},
   "source": [
    "# Training \n",
    "https://www.datacamp.com/community/tutorials/machine-learning-hotel-reviews#training"
   ]
  },
  {
   "cell_type": "markdown",
   "metadata": {},
   "source": [
    "* Will split the data into two parts for training and testing (80/20)\n",
    "* random_state = 13"
   ]
  },
  {
   "cell_type": "code",
   "execution_count": 310,
   "metadata": {},
   "outputs": [],
   "source": [
    "review_train, review_test, label_train, label_test = train_test_split(\n",
    "    result['pos'], result['Labels'], test_size=0.2, random_state=13)\n"
   ]
  },
  {
   "cell_type": "markdown",
   "metadata": {},
   "source": [
    "#### Vectorize the Training and Testing data using TfidfVectorizer\n",
    "*Tf* (term frequency). How many times a word appears\n",
    "*idf* (inverse document frequency). Helps deal with frequent/rare words. It calculates the log of number of docs divided by the number of docs where the term appears.\n",
    "\n",
    "The last step is multiplying the tf x idf to get a _weight_"
   ]
  },
  {
   "cell_type": "code",
   "execution_count": 311,
   "metadata": {},
   "outputs": [],
   "source": [
    "tf_vect = TfidfVectorizer(\n",
    "    lowercase = True, use_idf=True, smooth_idf=True, sublinear_tf=False)\n",
    "\n",
    "X_train_tf = tf_vect.fit_transform(review_train)\n",
    "\n",
    "X_test_tf = tf_vect.transform(review_test)"
   ]
  },
  {
   "cell_type": "markdown",
   "metadata": {},
   "source": [
    "## Implementing the model\n",
    "* Using a machine learning model known as Support Vector Machines (SVM)\n",
    "http://scikit-learn.org/stable/modules/svm.html\n",
    "* \"To select the best hyperparameters for your ML algorithm, you will use GridSearchCV, which based on your training data and labels suggests you the best hyperparameter values out of the values that you specify as a list. You will choose five different values for Cs and gammas and based on your data; you will get the best hyperparameter values.\""
   ]
  },
  {
   "cell_type": "code",
   "execution_count": 312,
   "metadata": {},
   "outputs": [],
   "source": [
    "def svc_param_selection(X, y, nfolds):\n",
    "    Cs = [0.001, 0.01, 0.1, 1, 10]\n",
    "    gammas = [0.001, 0.01, 0.1, 1]\n",
    "    param_grid = {'C': Cs, 'gamma' : gammas}\n",
    "    grid_search = GridSearchCV(svm.SVC(kernel='linear'), param_grid, cv=nfolds)\n",
    "    grid_search.fit(X, y)\n",
    "    return grid_search.best_params_"
   ]
  },
  {
   "cell_type": "code",
   "execution_count": 313,
   "metadata": {},
   "outputs": [],
   "source": [
    "svc_param_selection(X_train_tf,label_train,5)\n",
    "\n",
    "{'C': 10, 'gamma': 0.001}\n",
    "\n",
    "clf = svm.SVC(C=10,gamma=0.001,kernel='linear')\n",
    "clf.fit(X_train_tf,label_train)\n",
    "pred = clf.predict(X_test_tf)"
   ]
  },
  {
   "cell_type": "markdown",
   "metadata": {},
   "source": [
    "#### Save the model you just trained and the tfidf vercotizer\n",
    "* \"Let's save the *model* that you just trained along with the *Tfidf vectorizer* using the _pickle library_ that you had imported in the beginning, so that later on you can just simply load the data, vectorize it and predict using the ML model.\" "
   ]
  },
  {
   "cell_type": "code",
   "execution_count": 314,
   "metadata": {},
   "outputs": [],
   "source": [
    "with open('vectorizer.pickle', 'wb') as fin:\n",
    "    pickle.dump(tf_vect, fin)"
   ]
  },
  {
   "cell_type": "code",
   "execution_count": 315,
   "metadata": {},
   "outputs": [],
   "source": [
    "with open('mlmodel.pickle', 'wb') as f: \n",
    "    pickle.dump(clf,f)"
   ]
  },
  {
   "cell_type": "markdown",
   "metadata": {},
   "source": [
    "#### Load the tfidf vectorizer and the ML model"
   ]
  },
  {
   "cell_type": "code",
   "execution_count": 316,
   "metadata": {},
   "outputs": [],
   "source": [
    "pkl = open('mlmodel.pickle', 'rb')\n",
    "clf = pickle.load(pkl)   \n",
    "vec = open('vectorizer.pickle', 'rb')\n",
    "tf_vect = pickle.load(vec)"
   ]
  },
  {
   "cell_type": "markdown",
   "metadata": {},
   "source": [
    "#### Predict on the test data"
   ]
  },
  {
   "cell_type": "code",
   "execution_count": 317,
   "metadata": {},
   "outputs": [],
   "source": [
    "X_test_tf = tf_vect.transform(review_test)"
   ]
  },
  {
   "cell_type": "markdown",
   "metadata": {},
   "source": [
    "#### Analyse the performance of the model.\n",
    "#### Plot: \n",
    "* accuracy score\n",
    "* confusion matrix\n",
    "* and the classification report"
   ]
  },
  {
   "cell_type": "code",
   "execution_count": 318,
   "metadata": {},
   "outputs": [
    {
     "data": {
      "text/markdown": [
       "**Accuracy**"
      ],
      "text/plain": [
       "<IPython.core.display.Markdown object>"
      ]
     },
     "metadata": {},
     "output_type": "display_data"
    },
    {
     "name": "stdout",
     "output_type": "stream",
     "text": [
      "0.865625\n"
     ]
    },
    {
     "data": {
      "text/markdown": [
       "**Confusion Matrix**"
      ],
      "text/plain": [
       "<IPython.core.display.Markdown object>"
      ]
     },
     "metadata": {},
     "output_type": "display_data"
    },
    {
     "name": "stdout",
     "output_type": "stream",
     "text": [
      "[[139  16]\n",
      " [ 27 138]]\n"
     ]
    },
    {
     "data": {
      "text/markdown": [
       "**Classification report**"
      ],
      "text/plain": [
       "<IPython.core.display.Markdown object>"
      ]
     },
     "metadata": {},
     "output_type": "display_data"
    },
    {
     "name": "stdout",
     "output_type": "stream",
     "text": [
      "             precision    recall  f1-score   support\n",
      "\n",
      "  deceptive       0.84      0.90      0.87       155\n",
      "      truth       0.90      0.84      0.87       165\n",
      "\n",
      "avg / total       0.87      0.87      0.87       320\n",
      "\n"
     ]
    }
   ],
   "source": [
    "printmd(\"**Accuracy**\")\n",
    "print(metrics.accuracy_score(label_test, pred))\n",
    "\n",
    "printmd(\"**Confusion Matrix**\")\n",
    "print(confusion_matrix(label_test, pred))\n",
    "\n",
    "printmd(\"**Classification report**\")\n",
    "print (classification_report(label_test, pred))"
   ]
  },
  {
   "cell_type": "markdown",
   "metadata": {},
   "source": [
    "#### Explainition of above: \n",
    "_Confusion Matrix:_ <br>\n",
    "TP: True positive,  FN: False Negavive, <br>\n",
    "FP: False positive, TN: True negative\n",
    "\n",
    "[[ TP FN ] <br>\n",
    " [ FP TN ]]\n",
    " \n",
    "With the result: <br>\n",
    "[[139  16] <br>\n",
    " [ 27 138]]<br>\n",
    "**16 + 27 = 43 out of total 320 were misclassified**"
   ]
  },
  {
   "cell_type": "markdown",
   "metadata": {},
   "source": [
    "### Test the model using random states\n",
    "#### random_state = 1"
   ]
  },
  {
   "cell_type": "code",
   "execution_count": 319,
   "metadata": {},
   "outputs": [
    {
     "data": {
      "text/markdown": [
       "**Accuracy**"
      ],
      "text/plain": [
       "<IPython.core.display.Markdown object>"
      ]
     },
     "metadata": {},
     "output_type": "display_data"
    },
    {
     "name": "stdout",
     "output_type": "stream",
     "text": [
      "0.959375\n"
     ]
    },
    {
     "data": {
      "text/markdown": [
       "**Confusion Matrix**"
      ],
      "text/plain": [
       "<IPython.core.display.Markdown object>"
      ]
     },
     "metadata": {},
     "output_type": "display_data"
    },
    {
     "name": "stdout",
     "output_type": "stream",
     "text": [
      "[[145   6]\n",
      " [  7 162]]\n"
     ]
    },
    {
     "data": {
      "text/markdown": [
       "**Classification report**"
      ],
      "text/plain": [
       "<IPython.core.display.Markdown object>"
      ]
     },
     "metadata": {},
     "output_type": "display_data"
    },
    {
     "name": "stdout",
     "output_type": "stream",
     "text": [
      "             precision    recall  f1-score   support\n",
      "\n",
      "  deceptive       0.95      0.96      0.96       151\n",
      "      truth       0.96      0.96      0.96       169\n",
      "\n",
      "avg / total       0.96      0.96      0.96       320\n",
      "\n"
     ]
    }
   ],
   "source": [
    "review_train, review_test, label_train, label_test = train_test_split(\n",
    "    result['pos'],result['Labels'], test_size=0.2,random_state=1)\n",
    "\n",
    "X_test_tf = tf_vect.transform(review_test)\n",
    "pred = clf.predict(X_test_tf)\n",
    "\n",
    "printmd(\"**Accuracy**\")\n",
    "print(metrics.accuracy_score(label_test, pred))\n",
    "\n",
    "printmd(\"**Confusion Matrix**\")\n",
    "print (confusion_matrix(label_test, pred))\n",
    "\n",
    "printmd(\"**Classification report**\")\n",
    "print (classification_report(label_test, pred))"
   ]
  },
  {
   "cell_type": "markdown",
   "metadata": {},
   "source": [
    "#### random_state = 10"
   ]
  },
  {
   "cell_type": "code",
   "execution_count": 320,
   "metadata": {},
   "outputs": [
    {
     "data": {
      "text/markdown": [
       "**Accuracy**"
      ],
      "text/plain": [
       "<IPython.core.display.Markdown object>"
      ]
     },
     "metadata": {},
     "output_type": "display_data"
    },
    {
     "name": "stdout",
     "output_type": "stream",
     "text": [
      "0.978125\n"
     ]
    },
    {
     "data": {
      "text/markdown": [
       "**Confusion Matrix**"
      ],
      "text/plain": [
       "<IPython.core.display.Markdown object>"
      ]
     },
     "metadata": {},
     "output_type": "display_data"
    },
    {
     "name": "stdout",
     "output_type": "stream",
     "text": [
      "[[156   4]\n",
      " [  3 157]]\n"
     ]
    },
    {
     "data": {
      "text/markdown": [
       "**Classification report**"
      ],
      "text/plain": [
       "<IPython.core.display.Markdown object>"
      ]
     },
     "metadata": {},
     "output_type": "display_data"
    },
    {
     "name": "stdout",
     "output_type": "stream",
     "text": [
      "             precision    recall  f1-score   support\n",
      "\n",
      "  deceptive       0.98      0.97      0.98       160\n",
      "      truth       0.98      0.98      0.98       160\n",
      "\n",
      "avg / total       0.98      0.98      0.98       320\n",
      "\n"
     ]
    }
   ],
   "source": [
    "review_train, review_test, label_train, label_test = train_test_split(result['pos'],result['Labels'], test_size=0.2,random_state=10)\n",
    "\n",
    "X_test_tf = tf_vect.transform(review_test)\n",
    "pred = clf.predict(X_test_tf)\n",
    "\n",
    "printmd(\"**Accuracy**\")\n",
    "print(metrics.accuracy_score(label_test, pred))\n",
    "printmd(\"**Confusion Matrix**\")\n",
    "print (confusion_matrix(label_test, pred))\n",
    "printmd(\"**Classification report**\")\n",
    "print (classification_report(label_test, pred))\n"
   ]
  },
  {
   "cell_type": "markdown",
   "metadata": {},
   "source": [
    "#### random_state =  42"
   ]
  },
  {
   "cell_type": "code",
   "execution_count": 321,
   "metadata": {},
   "outputs": [
    {
     "data": {
      "text/markdown": [
       "**Accuracy**"
      ],
      "text/plain": [
       "<IPython.core.display.Markdown object>"
      ]
     },
     "metadata": {},
     "output_type": "display_data"
    },
    {
     "name": "stdout",
     "output_type": "stream",
     "text": [
      "0.96875\n"
     ]
    },
    {
     "data": {
      "text/markdown": [
       "**Confusion Matrix**"
      ],
      "text/plain": [
       "<IPython.core.display.Markdown object>"
      ]
     },
     "metadata": {},
     "output_type": "display_data"
    },
    {
     "name": "stdout",
     "output_type": "stream",
     "text": [
      "[[163   5]\n",
      " [  5 147]]\n"
     ]
    },
    {
     "data": {
      "text/markdown": [
       "**Classification report**"
      ],
      "text/plain": [
       "<IPython.core.display.Markdown object>"
      ]
     },
     "metadata": {},
     "output_type": "display_data"
    },
    {
     "name": "stdout",
     "output_type": "stream",
     "text": [
      "             precision    recall  f1-score   support\n",
      "\n",
      "  deceptive       0.97      0.97      0.97       168\n",
      "      truth       0.97      0.97      0.97       152\n",
      "\n",
      "avg / total       0.97      0.97      0.97       320\n",
      "\n"
     ]
    }
   ],
   "source": [
    "review_train, review_test, label_train, label_test = train_test_split(\n",
    "    result['pos'],result['Labels'], test_size=0.2,random_state=42)\n",
    "\n",
    "X_test_tf = tf_vect.transform(review_test)\n",
    "pred = clf.predict(X_test_tf)\n",
    "\n",
    "printmd(\"**Accuracy**\")\n",
    "print(metrics.accuracy_score(label_test, pred))\n",
    "\n",
    "printmd(\"**Confusion Matrix**\")\n",
    "print (confusion_matrix(label_test, pred))\n",
    "\n",
    "printmd(\"**Classification report**\")\n",
    "print (classification_report(label_test, pred))"
   ]
  },
  {
   "cell_type": "markdown",
   "metadata": {},
   "source": [
    "* \"From the above predictions, you can observe that the Model did a Fantastic Job and is not overfitting _since you tested the model several times by splitting the data differently everytime_\""
   ]
  },
  {
   "cell_type": "markdown",
   "metadata": {},
   "source": [
    "## Test the model with two Yelp reviews"
   ]
  },
  {
   "cell_type": "code",
   "execution_count": 322,
   "metadata": {},
   "outputs": [],
   "source": [
    "def test_string(s):\n",
    "    X_test_tf = tf_vect.transform([s])\n",
    "    y_predict = clf.predict(X_test_tf)\n",
    "    return y_predict"
   ]
  },
  {
   "cell_type": "code",
   "execution_count": 323,
   "metadata": {},
   "outputs": [
    {
     "data": {
      "text/plain": [
       "array(['truth'], dtype=object)"
      ]
     },
     "execution_count": 323,
     "metadata": {},
     "output_type": "execute_result"
    }
   ],
   "source": [
    "test_string(\"The hotel was good.The room had a 27-inch Samsung led tv, a microwave.The room had a double bed\")\n"
   ]
  },
  {
   "cell_type": "code",
   "execution_count": 324,
   "metadata": {},
   "outputs": [
    {
     "data": {
      "text/plain": [
       "array(['truth'], dtype=object)"
      ]
     },
     "execution_count": 324,
     "metadata": {},
     "output_type": "execute_result"
    }
   ],
   "source": [
    "test_string(\"My family and I are huge fans of this place. The staff is super nice, and the food is great. The chicken is very good, and the garlic sauce is perfect. Ice cream topped with fruit is delicious too. Highly recommended!\")"
   ]
  },
  {
   "cell_type": "code",
   "execution_count": null,
   "metadata": {},
   "outputs": [],
   "source": []
  }
 ],
 "metadata": {
  "kernelspec": {
   "display_name": "Python 3",
   "language": "python",
   "name": "python3"
  },
  "language_info": {
   "codemirror_mode": {
    "name": "ipython",
    "version": 3
   },
   "file_extension": ".py",
   "mimetype": "text/x-python",
   "name": "python",
   "nbconvert_exporter": "python",
   "pygments_lexer": "ipython3",
   "version": "3.6.3"
  }
 },
 "nbformat": 4,
 "nbformat_minor": 2
}
